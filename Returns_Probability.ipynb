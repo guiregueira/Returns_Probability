{
 "cells": [
  {
   "cell_type": "code",
   "execution_count": 44,
   "id": "161cb8cf",
   "metadata": {},
   "outputs": [],
   "source": [
    "import pandas as pd\n",
    "import yfinance as yf\n",
    "import numpy as np\n",
    "import matplotlib.pyplot as plt\n",
    "import seaborn as sns\n",
    "import matplotlib\n",
    "matplotlib.rcParams[\"figure.figsize\"]=(16,8)\n",
    "matplotlib.rcParams.update({\"font.size\": 22})\n",
    "import warnings\n",
    "warnings.filterwarnings(\"ignore\")\n",
    "from scipy.stats import norm, t, gaussian_kde\n",
    "from scipy import stats\n",
    "from sklearn.neighbors import KernelDensity"
   ]
  },
  {
   "cell_type": "code",
   "execution_count": 139,
   "id": "6d920db3",
   "metadata": {},
   "outputs": [
    {
     "data": {
      "text/html": [
       "<div>\n",
       "<style scoped>\n",
       "    .dataframe tbody tr th:only-of-type {\n",
       "        vertical-align: middle;\n",
       "    }\n",
       "\n",
       "    .dataframe tbody tr th {\n",
       "        vertical-align: top;\n",
       "    }\n",
       "\n",
       "    .dataframe thead th {\n",
       "        text-align: right;\n",
       "    }\n",
       "</style>\n",
       "<table border=\"1\" class=\"dataframe\">\n",
       "  <thead>\n",
       "    <tr style=\"text-align: right;\">\n",
       "      <th></th>\n",
       "      <th>Adj Close</th>\n",
       "      <th>retorno</th>\n",
       "    </tr>\n",
       "    <tr>\n",
       "      <th>Date</th>\n",
       "      <th></th>\n",
       "      <th></th>\n",
       "    </tr>\n",
       "  </thead>\n",
       "  <tbody>\n",
       "    <tr>\n",
       "      <th>1993-05-03</th>\n",
       "      <td>125.000000</td>\n",
       "      <td>0.293996</td>\n",
       "    </tr>\n",
       "    <tr>\n",
       "      <th>1993-05-09</th>\n",
       "      <td>133.400000</td>\n",
       "      <td>0.067200</td>\n",
       "    </tr>\n",
       "    <tr>\n",
       "      <th>1993-05-15</th>\n",
       "      <td>120.699999</td>\n",
       "      <td>-0.095202</td>\n",
       "    </tr>\n",
       "    <tr>\n",
       "      <th>1993-05-21</th>\n",
       "      <td>136.400002</td>\n",
       "      <td>0.130075</td>\n",
       "    </tr>\n",
       "    <tr>\n",
       "      <th>1993-05-27</th>\n",
       "      <td>106.900002</td>\n",
       "      <td>-0.216276</td>\n",
       "    </tr>\n",
       "    <tr>\n",
       "      <th>...</th>\n",
       "      <td>...</td>\n",
       "      <td>...</td>\n",
       "    </tr>\n",
       "    <tr>\n",
       "      <th>2021-06-29</th>\n",
       "      <td>507417.000000</td>\n",
       "      <td>-0.010163</td>\n",
       "    </tr>\n",
       "    <tr>\n",
       "      <th>2021-07-05</th>\n",
       "      <td>504462.000000</td>\n",
       "      <td>-0.005824</td>\n",
       "    </tr>\n",
       "    <tr>\n",
       "      <th>2021-07-11</th>\n",
       "      <td>637597.000000</td>\n",
       "      <td>0.263915</td>\n",
       "    </tr>\n",
       "    <tr>\n",
       "      <th>2021-07-17</th>\n",
       "      <td>501872.000000</td>\n",
       "      <td>-0.212870</td>\n",
       "    </tr>\n",
       "    <tr>\n",
       "      <th>2021-07-23</th>\n",
       "      <td>125053.000000</td>\n",
       "      <td>-0.750827</td>\n",
       "    </tr>\n",
       "  </tbody>\n",
       "</table>\n",
       "<p>1719 rows × 2 columns</p>\n",
       "</div>"
      ],
      "text/plain": [
       "                Adj Close   retorno\n",
       "Date                               \n",
       "1993-05-03     125.000000  0.293996\n",
       "1993-05-09     133.400000  0.067200\n",
       "1993-05-15     120.699999 -0.095202\n",
       "1993-05-21     136.400002  0.130075\n",
       "1993-05-27     106.900002 -0.216276\n",
       "...                   ...       ...\n",
       "2021-06-29  507417.000000 -0.010163\n",
       "2021-07-05  504462.000000 -0.005824\n",
       "2021-07-11  637597.000000  0.263915\n",
       "2021-07-17  501872.000000 -0.212870\n",
       "2021-07-23  125053.000000 -0.750827\n",
       "\n",
       "[1719 rows x 2 columns]"
      ]
     },
     "execution_count": 139,
     "metadata": {},
     "output_type": "execute_result"
    }
   ],
   "source": [
    "ibov=yf.download(\"^BVSP\",progress=False)[[\"Adj Close\"]]\n",
    "ibov=ibov.resample(\"6D\").sum() # AQUI VOCÊ ALTERA PARA O VENCIMENTO DA SUA ESTRUTURA COM OPÇÕES\n",
    "ibov[\"retorno\"]=ibov[\"Adj Close\"].pct_change()\n",
    "ibov=ibov.dropna()\n",
    "ibov"
   ]
  },
  {
   "cell_type": "code",
   "execution_count": 113,
   "id": "06f5b41f",
   "metadata": {
    "scrolled": true
   },
   "outputs": [
    {
     "data": {
      "text/html": [
       "<div>\n",
       "<style scoped>\n",
       "    .dataframe tbody tr th:only-of-type {\n",
       "        vertical-align: middle;\n",
       "    }\n",
       "\n",
       "    .dataframe tbody tr th {\n",
       "        vertical-align: top;\n",
       "    }\n",
       "\n",
       "    .dataframe thead th {\n",
       "        text-align: right;\n",
       "    }\n",
       "</style>\n",
       "<table border=\"1\" class=\"dataframe\">\n",
       "  <thead>\n",
       "    <tr style=\"text-align: right;\">\n",
       "      <th></th>\n",
       "      <th>Adj Close</th>\n",
       "      <th>retorno</th>\n",
       "    </tr>\n",
       "    <tr>\n",
       "      <th>Date</th>\n",
       "      <th></th>\n",
       "      <th></th>\n",
       "    </tr>\n",
       "  </thead>\n",
       "  <tbody>\n",
       "    <tr>\n",
       "      <th>1993-10-18</th>\n",
       "      <td>171.399994</td>\n",
       "      <td>-0.095037</td>\n",
       "    </tr>\n",
       "    <tr>\n",
       "      <th>1993-10-20</th>\n",
       "      <td>166.000000</td>\n",
       "      <td>-0.060555</td>\n",
       "    </tr>\n",
       "    <tr>\n",
       "      <th>1993-10-21</th>\n",
       "      <td>150.300003</td>\n",
       "      <td>-0.094578</td>\n",
       "    </tr>\n",
       "    <tr>\n",
       "      <th>1993-10-25</th>\n",
       "      <td>156.100006</td>\n",
       "      <td>-0.064709</td>\n",
       "    </tr>\n",
       "    <tr>\n",
       "      <th>1994-02-18</th>\n",
       "      <td>944.900024</td>\n",
       "      <td>-0.092228</td>\n",
       "    </tr>\n",
       "    <tr>\n",
       "      <th>...</th>\n",
       "      <td>...</td>\n",
       "      <td>...</td>\n",
       "    </tr>\n",
       "    <tr>\n",
       "      <th>2020-03-18</th>\n",
       "      <td>66895.000000</td>\n",
       "      <td>-0.103488</td>\n",
       "    </tr>\n",
       "    <tr>\n",
       "      <th>2020-03-23</th>\n",
       "      <td>63570.000000</td>\n",
       "      <td>-0.052170</td>\n",
       "    </tr>\n",
       "    <tr>\n",
       "      <th>2020-03-27</th>\n",
       "      <td>73429.000000</td>\n",
       "      <td>-0.055089</td>\n",
       "    </tr>\n",
       "    <tr>\n",
       "      <th>2020-04-24</th>\n",
       "      <td>75331.000000</td>\n",
       "      <td>-0.054498</td>\n",
       "    </tr>\n",
       "    <tr>\n",
       "      <th>2021-02-22</th>\n",
       "      <td>112668.000000</td>\n",
       "      <td>-0.051201</td>\n",
       "    </tr>\n",
       "  </tbody>\n",
       "</table>\n",
       "<p>101 rows × 2 columns</p>\n",
       "</div>"
      ],
      "text/plain": [
       "                Adj Close   retorno\n",
       "Date                               \n",
       "1993-10-18     171.399994 -0.095037\n",
       "1993-10-20     166.000000 -0.060555\n",
       "1993-10-21     150.300003 -0.094578\n",
       "1993-10-25     156.100006 -0.064709\n",
       "1994-02-18     944.900024 -0.092228\n",
       "...                   ...       ...\n",
       "2020-03-18   66895.000000 -0.103488\n",
       "2020-03-23   63570.000000 -0.052170\n",
       "2020-03-27   73429.000000 -0.055089\n",
       "2020-04-24   75331.000000 -0.054498\n",
       "2021-02-22  112668.000000 -0.051201\n",
       "\n",
       "[101 rows x 2 columns]"
      ]
     },
     "execution_count": 113,
     "metadata": {},
     "output_type": "execute_result"
    }
   ],
   "source": [
    "media_ibov=ibov[\"retorno\"].mean()\n",
    "std_ibov=ibov[\"retorno\"].std()\n",
    "# filtrando quedas superiores a 5%\n",
    "ibov[ibov[\"retorno\"]<=-0.05]"
   ]
  },
  {
   "cell_type": "code",
   "execution_count": 140,
   "id": "1ad6229f",
   "metadata": {},
   "outputs": [
    {
     "name": "stdout",
     "output_type": "stream",
     "text": [
      "1x for each 91 days\n",
      "probability of 1.10%\n"
     ]
    }
   ],
   "source": [
    "#probabilidade considerando uma distribuição normal do ativo cair 5%, lembrando que ela não deve ser usada no mercado, JÁ MOSTRAREMOS O MOTIVO\n",
    "pop=norm.cdf(-0.05,loc=media_ibov,scale=std_ibov)\n",
    "freq=1/pop\n",
    "print(f\"1x for each {freq:.0f} days\")\n",
    "print(f\"probability of {pop*100:.2f}%\")"
   ]
  },
  {
   "cell_type": "code",
   "execution_count": 141,
   "id": "d82d1592",
   "metadata": {},
   "outputs": [
    {
     "data": {
      "image/png": "[encoded data removed]",
      "text/plain": [
       "<Figure size 1152x576 with 1 Axes>"
      ]
     },
     "metadata": {
      "needs_background": "light"
     },
     "output_type": "display_data"
    }
   ],
   "source": [
    "count, bins, patches = plt.hist(retornos, bins=100, density=True, edgecolor=\"black\", color=\"coral\")"
   ]
  },
  {
   "cell_type": "code",
   "execution_count": 120,
   "id": "8af44a3f",
   "metadata": {},
   "outputs": [
    {
     "data": {
      "text/plain": [
       "<AxesSubplot:xlabel='retorno', ylabel='Density'>"
      ]
     },
     "execution_count": 120,
     "metadata": {},
     "output_type": "execute_result"
    },
    {
     "data": {
      "image/png": "[encoded data removed]",
      "text/plain": [
       "<Figure size 1152x576 with 1 Axes>"
      ]
     },
     "metadata": {
      "needs_background": "light"
     },
     "output_type": "display_data"
    }
   ],
   "source": [
    "# uma distribuição T- Student se aproxima mais da realidade\n",
    "sns.distplot(ibov[\"retorno\"],bins=100, kde=True,fit=t) #  a distribuição t de student explica bem, inclusive melhor que a Kernel"
   ]
  },
  {
   "cell_type": "code",
   "execution_count": 142,
   "id": "62ea5231",
   "metadata": {},
   "outputs": [
    {
     "name": "stdout",
     "output_type": "stream",
     "text": [
      "Graus de Liberdade: 1.55\n",
      "Média: -0.0892%\n",
      "Desvio Padrão: 11.60%\n"
     ]
    }
   ],
   "source": [
    "(graus_liberdade_t, media_t, std_t)= t.fit(ibov[\"retorno\"])\n",
    "print(f\"Graus de Liberdade: {graus_liberdade_t:.2f}\")\n",
    "print(f\"Média: {media_t*100:.4f}%\")\n",
    "print(f\"Desvio Padrão: {std_t*100:.2f}%\")"
   ]
  },
  {
   "cell_type": "code",
   "execution_count": 143,
   "id": "40c76472",
   "metadata": {},
   "outputs": [
    {
     "name": "stdout",
     "output_type": "stream",
     "text": [
      "Probabilidade: 36.16%\n"
     ]
    }
   ],
   "source": [
    "# Probabilidade do índice cair 5% em 1 dia\n",
    "pop_t=t.cdf(-0.05, graus_liberdade_t, loc=media_t,scale=std_t)\n",
    "print(f\"Probabilidade: {pop_t*100:.2f}%\")"
   ]
  },
  {
   "cell_type": "code",
   "execution_count": 146,
   "id": "fe6e98b4",
   "metadata": {},
   "outputs": [
    {
     "name": "stdout",
     "output_type": "stream",
     "text": [
      "1x for each 2.77 samples\n"
     ]
    }
   ],
   "source": [
    "freq=1/pop_t\n",
    "print(f\"1x for each {freq:.2f} samples\")"
   ]
  }
 ],
 "metadata": {
  "kernelspec": {
   "display_name": "Python 3",
   "language": "python",
   "name": "python3"
  },
  "language_info": {
   "codemirror_mode": {
    "name": "ipython",
    "version": 3
   },
   "file_extension": ".py",
   "mimetype": "text/x-python",
   "name": "python",
   "nbconvert_exporter": "python",
   "pygments_lexer": "ipython3",
   "version": "3.8.8"
  }
 },
 "nbformat": 4,
 "nbformat_minor": 5
}
